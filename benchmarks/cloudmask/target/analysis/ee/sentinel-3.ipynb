{
 "cells": [
  {
   "cell_type": "code",
   "execution_count": 2,
   "outputs": [
    {
     "name": "stdout",
     "output_type": "stream",
     "text": [
      "Collecting earthengine-api\r\n",
      "  Downloading earthengine-api-0.1.383.tar.gz (261 kB)\r\n",
      "\u001B[2K     \u001B[90m━━━━━━━━━━━━━━━━━━━━━━━━━━━━━━━━━━━━━━━\u001B[0m \u001B[32m261.5/261.5 kB\u001B[0m \u001B[31m3.9 MB/s\u001B[0m eta \u001B[36m0:00:00\u001B[0ma \u001B[36m0:00:01\u001B[0m\r\n",
      "\u001B[?25h  Installing build dependencies ... \u001B[?25ldone\r\n",
      "\u001B[?25h  Getting requirements to build wheel ... \u001B[?25ldone\r\n",
      "\u001B[?25h  Preparing metadata (pyproject.toml) ... \u001B[?25ldone\r\n",
      "\u001B[?25hCollecting google-cloud-storage (from earthengine-api)\r\n",
      "  Downloading google_cloud_storage-2.13.0-py2.py3-none-any.whl.metadata (6.1 kB)\r\n",
      "Collecting google-api-python-client>=1.12.1 (from earthengine-api)\r\n",
      "  Downloading google_api_python_client-2.110.0-py2.py3-none-any.whl.metadata (6.6 kB)\r\n",
      "Requirement already satisfied: google-auth>=1.4.1 in /home/green/ENV3/lib/python3.10/site-packages (from earthengine-api) (2.15.0)\r\n",
      "Collecting google-auth-httplib2>=0.0.3 (from earthengine-api)\r\n",
      "  Downloading google_auth_httplib2-0.1.1-py2.py3-none-any.whl.metadata (2.1 kB)\r\n",
      "Collecting httplib2<1dev,>=0.9.2 (from earthengine-api)\r\n",
      "  Downloading httplib2-0.22.0-py3-none-any.whl (96 kB)\r\n",
      "\u001B[2K     \u001B[90m━━━━━━━━━━━━━━━━━━━━━━━━━━━━━━━━━━━━━━━━\u001B[0m \u001B[32m96.9/96.9 kB\u001B[0m \u001B[31m7.5 MB/s\u001B[0m eta \u001B[36m0:00:00\u001B[0m\r\n",
      "\u001B[?25hRequirement already satisfied: requests in /home/green/ENV3/lib/python3.10/site-packages (from earthengine-api) (2.28.2)\r\n",
      "Collecting google-api-core!=2.0.*,!=2.1.*,!=2.2.*,!=2.3.0,<3.0.0.dev0,>=1.31.5 (from google-api-python-client>=1.12.1->earthengine-api)\r\n",
      "  Downloading google_api_core-2.15.0-py3-none-any.whl.metadata (2.7 kB)\r\n",
      "Collecting uritemplate<5,>=3.0.1 (from google-api-python-client>=1.12.1->earthengine-api)\r\n",
      "  Downloading uritemplate-4.1.1-py2.py3-none-any.whl (10 kB)\r\n",
      "Requirement already satisfied: cachetools<6.0,>=2.0.0 in /home/green/ENV3/lib/python3.10/site-packages (from google-auth>=1.4.1->earthengine-api) (5.2.0)\r\n",
      "Requirement already satisfied: pyasn1-modules>=0.2.1 in /home/green/ENV3/lib/python3.10/site-packages (from google-auth>=1.4.1->earthengine-api) (0.2.8)\r\n",
      "Requirement already satisfied: six>=1.9.0 in /home/green/ENV3/lib/python3.10/site-packages (from google-auth>=1.4.1->earthengine-api) (1.16.0)\r\n",
      "Requirement already satisfied: rsa<5,>=3.1.4 in /home/green/ENV3/lib/python3.10/site-packages (from google-auth>=1.4.1->earthengine-api) (4.7.2)\r\n",
      "Requirement already satisfied: pyparsing!=3.0.0,!=3.0.1,!=3.0.2,!=3.0.3,<4,>=2.4.2 in /home/green/ENV3/lib/python3.10/site-packages (from httplib2<1dev,>=0.9.2->earthengine-api) (3.0.9)\r\n",
      "Collecting google-auth>=1.4.1 (from earthengine-api)\r\n",
      "  Downloading google_auth-2.25.2-py2.py3-none-any.whl.metadata (4.7 kB)\r\n",
      "Collecting google-cloud-core<3.0dev,>=2.3.0 (from google-cloud-storage->earthengine-api)\r\n",
      "  Downloading google_cloud_core-2.4.1-py2.py3-none-any.whl.metadata (2.7 kB)\r\n",
      "Collecting google-resumable-media>=2.6.0 (from google-cloud-storage->earthengine-api)\r\n",
      "  Downloading google_resumable_media-2.6.0-py2.py3-none-any.whl.metadata (2.1 kB)\r\n",
      "Collecting google-crc32c<2.0dev,>=1.0 (from google-cloud-storage->earthengine-api)\r\n",
      "  Downloading google_crc32c-1.5.0-cp310-cp310-manylinux_2_17_x86_64.manylinux2014_x86_64.whl (32 kB)\r\n",
      "Requirement already satisfied: charset-normalizer<4,>=2 in /home/green/ENV3/lib/python3.10/site-packages (from requests->earthengine-api) (2.1.1)\r\n",
      "Requirement already satisfied: idna<4,>=2.5 in /home/green/ENV3/lib/python3.10/site-packages (from requests->earthengine-api) (3.4)\r\n",
      "Requirement already satisfied: urllib3<1.27,>=1.21.1 in /home/green/ENV3/lib/python3.10/site-packages (from requests->earthengine-api) (1.26.13)\r\n",
      "Requirement already satisfied: certifi>=2017.4.17 in /home/green/ENV3/lib/python3.10/site-packages (from requests->earthengine-api) (2022.9.24)\r\n",
      "Requirement already satisfied: googleapis-common-protos<2.0.dev0,>=1.56.2 in /home/green/ENV3/lib/python3.10/site-packages (from google-api-core!=2.0.*,!=2.1.*,!=2.2.*,!=2.3.0,<3.0.0.dev0,>=1.31.5->google-api-python-client>=1.12.1->earthengine-api) (1.59.0)\r\n",
      "Collecting protobuf!=3.20.0,!=3.20.1,!=4.21.0,!=4.21.1,!=4.21.2,!=4.21.3,!=4.21.4,!=4.21.5,<5.0.0.dev0,>=3.19.5 (from google-api-core!=2.0.*,!=2.1.*,!=2.2.*,!=2.3.0,<3.0.0.dev0,>=1.31.5->google-api-python-client>=1.12.1->earthengine-api)\r\n",
      "  Downloading protobuf-4.25.1-cp37-abi3-manylinux2014_x86_64.whl.metadata (541 bytes)\r\n",
      "Requirement already satisfied: pyasn1<0.5.0,>=0.4.6 in /home/green/ENV3/lib/python3.10/site-packages (from pyasn1-modules>=0.2.1->google-auth>=1.4.1->earthengine-api) (0.4.8)\r\n",
      "Downloading google_api_python_client-2.110.0-py2.py3-none-any.whl (12.9 MB)\r\n",
      "\u001B[2K   \u001B[90m━━━━━━━━━━━━━━━━━━━━━━━━━━━━━━━━━━━━━━━━\u001B[0m \u001B[32m12.9/12.9 MB\u001B[0m \u001B[31m16.6 MB/s\u001B[0m eta \u001B[36m0:00:00\u001B[0m00:01\u001B[0m00:01\u001B[0m\r\n",
      "\u001B[?25hDownloading google_auth_httplib2-0.1.1-py2.py3-none-any.whl (9.3 kB)\r\n",
      "Downloading google_cloud_storage-2.13.0-py2.py3-none-any.whl (121 kB)\r\n",
      "\u001B[2K   \u001B[90m━━━━━━━━━━━━━━━━━━━━━━━━━━━━━━━━━━━━━━━━\u001B[0m \u001B[32m121.1/121.1 kB\u001B[0m \u001B[31m22.5 MB/s\u001B[0m eta \u001B[36m0:00:00\u001B[0m\r\n",
      "\u001B[?25hDownloading google_auth-2.25.2-py2.py3-none-any.whl (184 kB)\r\n",
      "\u001B[2K   \u001B[90m━━━━━━━━━━━━━━━━━━━━━━━━━━━━━━━━━━━━━━━━\u001B[0m \u001B[32m184.2/184.2 kB\u001B[0m \u001B[31m21.4 MB/s\u001B[0m eta \u001B[36m0:00:00\u001B[0m\r\n",
      "\u001B[?25hDownloading google_api_core-2.15.0-py3-none-any.whl (121 kB)\r\n",
      "\u001B[2K   \u001B[90m━━━━━━━━━━━━━━━━━━━━━━━━━━━━━━━━━━━━━━━━\u001B[0m \u001B[32m122.0/122.0 kB\u001B[0m \u001B[31m21.7 MB/s\u001B[0m eta \u001B[36m0:00:00\u001B[0m\r\n",
      "\u001B[?25hDownloading google_cloud_core-2.4.1-py2.py3-none-any.whl (29 kB)\r\n",
      "Downloading google_resumable_media-2.6.0-py2.py3-none-any.whl (80 kB)\r\n",
      "\u001B[2K   \u001B[90m━━━━━━━━━━━━━━━━━━━━━━━━━━━━━━━━━━━━━━━━\u001B[0m \u001B[32m80.3/80.3 kB\u001B[0m \u001B[31m19.2 MB/s\u001B[0m eta \u001B[36m0:00:00\u001B[0m\r\n",
      "\u001B[?25hDownloading protobuf-4.25.1-cp37-abi3-manylinux2014_x86_64.whl (294 kB)\r\n",
      "\u001B[2K   \u001B[90m━━━━━━━━━━━━━━━━━━━━━━━━━━━━━━━━━━━━━━━━\u001B[0m \u001B[32m294.6/294.6 kB\u001B[0m \u001B[31m18.3 MB/s\u001B[0m eta \u001B[36m0:00:00\u001B[0m\r\n",
      "\u001B[?25hBuilding wheels for collected packages: earthengine-api\r\n",
      "  Building wheel for earthengine-api (pyproject.toml) ... \u001B[?25ldone\r\n",
      "\u001B[?25h  Created wheel for earthengine-api: filename=earthengine_api-0.1.383-py3-none-any.whl size=294257 sha256=8a7484a518f865ffd6f84416b868bf0599fd935d77aede9577d7752415557644\r\n",
      "  Stored in directory: /home/green/.cache/pip/wheels/0a/35/d5/683483c52e80fda1940a8540c23591be3bcf4ae3a8dbae88ae\r\n",
      "Successfully built earthengine-api\r\n",
      "Installing collected packages: uritemplate, protobuf, httplib2, google-crc32c, google-resumable-media, google-auth, google-auth-httplib2, google-api-core, google-cloud-core, google-api-python-client, google-cloud-storage, earthengine-api\r\n",
      "  Attempting uninstall: protobuf\r\n",
      "    Found existing installation: protobuf 3.19.4\r\n",
      "    Uninstalling protobuf-3.19.4:\r\n",
      "      Successfully uninstalled protobuf-3.19.4\r\n",
      "  Attempting uninstall: google-auth\r\n",
      "    Found existing installation: google-auth 2.15.0\r\n",
      "    Uninstalling google-auth-2.15.0:\r\n",
      "      Successfully uninstalled google-auth-2.15.0\r\n",
      "\u001B[31mERROR: pip's dependency resolver does not currently take into account all the packages that are installed. This behaviour is the source of the following dependency conflicts.\r\n",
      "cloudmesh-rsync 4.3.1 requires redis, which is not installed.\r\n",
      "streamlit 1.20.0 requires protobuf<4,>=3.12, but you have protobuf 4.25.1 which is incompatible.\r\n",
      "tb-nightly 2.13.0a20230426 requires google-auth-oauthlib<1.1,>=0.5, but you have google-auth-oauthlib 0.4.6 which is incompatible.\r\n",
      "tb-nightly 2.13.0a20230426 requires tensorboard-data-server<0.8.0,>=0.7.0, but you have tensorboard-data-server 0.6.1 which is incompatible.\r\n",
      "tf-nightly 2.13.0.dev20230427 requires tf-estimator-nightly~=2.13.0.dev, but you have tf-estimator-nightly 2.8.0.dev2021122109 which is incompatible.\u001B[0m\u001B[31m\r\n",
      "\u001B[0mSuccessfully installed earthengine-api-0.1.383 google-api-core-2.15.0 google-api-python-client-2.110.0 google-auth-2.25.2 google-auth-httplib2-0.1.1 google-cloud-core-2.4.1 google-cloud-storage-2.13.0 google-crc32c-1.5.0 google-resumable-media-2.6.0 httplib2-0.22.0 protobuf-4.25.1 uritemplate-4.1.1\r\n",
      "Collecting geemap\r\n",
      "  Downloading geemap-0.29.6-py2.py3-none-any.whl.metadata (14 kB)\r\n",
      "Collecting bqplot (from geemap)\r\n",
      "  Downloading bqplot-0.12.42-py2.py3-none-any.whl.metadata (6.4 kB)\r\n",
      "Collecting colour (from geemap)\r\n",
      "  Downloading colour-0.1.5-py2.py3-none-any.whl (23 kB)\r\n",
      "Requirement already satisfied: earthengine-api>=0.1.347 in /home/green/ENV3/lib/python3.10/site-packages (from geemap) (0.1.383)\r\n",
      "Collecting eerepr>=0.0.4 (from geemap)\r\n",
      "  Downloading eerepr-0.0.4-py3-none-any.whl (9.7 kB)\r\n",
      "Requirement already satisfied: folium>=0.13.0 in /home/green/ENV3/lib/python3.10/site-packages (from geemap) (0.15.1)\r\n",
      "Collecting geocoder (from geemap)\r\n",
      "  Downloading geocoder-1.38.1-py2.py3-none-any.whl (98 kB)\r\n",
      "\u001B[2K     \u001B[90m━━━━━━━━━━━━━━━━━━━━━━━━━━━━━━━━━━━━━━━━\u001B[0m \u001B[32m98.6/98.6 kB\u001B[0m \u001B[31m5.8 MB/s\u001B[0m eta \u001B[36m0:00:00\u001B[0m\r\n",
      "\u001B[?25hCollecting ipyevents (from geemap)\r\n",
      "  Downloading ipyevents-2.0.2-py3-none-any.whl.metadata (2.9 kB)\r\n",
      "Collecting ipyfilechooser>=0.6.0 (from geemap)\r\n",
      "  Downloading ipyfilechooser-0.6.0-py3-none-any.whl (11 kB)\r\n",
      "Collecting ipyleaflet>=0.17.0 (from geemap)\r\n",
      "  Downloading ipyleaflet-0.18.0-py3-none-any.whl.metadata (1.0 kB)\r\n",
      "Collecting ipytree (from geemap)\r\n",
      "  Downloading ipytree-0.2.2-py2.py3-none-any.whl (1.3 MB)\r\n",
      "\u001B[2K     \u001B[90m━━━━━━━━━━━━━━━━━━━━━━━━━━━━━━━━━━━━━━━━\u001B[0m \u001B[32m1.3/1.3 MB\u001B[0m \u001B[31m6.1 MB/s\u001B[0m eta \u001B[36m0:00:00\u001B[0m00:01\u001B[0m00:01\u001B[0m\r\n",
      "\u001B[?25hRequirement already satisfied: matplotlib in /home/green/ENV3/lib/python3.10/site-packages (from geemap) (3.8.2)\r\n",
      "Requirement already satisfied: numpy in /home/green/ENV3/lib/python3.10/site-packages (from geemap) (1.23.5)\r\n",
      "Requirement already satisfied: pandas in /home/green/ENV3/lib/python3.10/site-packages (from geemap) (1.5.2)\r\n",
      "Requirement already satisfied: plotly in /home/green/ENV3/lib/python3.10/site-packages (from geemap) (5.15.0)\r\n",
      "Collecting pyperclip (from geemap)\r\n",
      "  Downloading pyperclip-1.8.2.tar.gz (20 kB)\r\n",
      "  Preparing metadata (setup.py) ... \u001B[?25ldone\r\n",
      "\u001B[?25hRequirement already satisfied: pyshp>=2.1.3 in /home/green/ENV3/lib/python3.10/site-packages (from geemap) (2.3.1)\r\n",
      "Collecting python-box (from geemap)\r\n",
      "  Downloading python_box-7.1.1-cp310-cp310-manylinux_2_17_x86_64.manylinux2014_x86_64.whl.metadata (7.8 kB)\r\n",
      "Collecting scooby (from geemap)\r\n",
      "  Downloading scooby-0.9.2-py3-none-any.whl.metadata (15 kB)\r\n",
      "Requirement already satisfied: google-cloud-storage in /home/green/ENV3/lib/python3.10/site-packages (from earthengine-api>=0.1.347->geemap) (2.13.0)\r\n",
      "Requirement already satisfied: google-api-python-client>=1.12.1 in /home/green/ENV3/lib/python3.10/site-packages (from earthengine-api>=0.1.347->geemap) (2.110.0)\r\n",
      "Requirement already satisfied: google-auth>=1.4.1 in /home/green/ENV3/lib/python3.10/site-packages (from earthengine-api>=0.1.347->geemap) (2.25.2)\r\n",
      "Requirement already satisfied: google-auth-httplib2>=0.0.3 in /home/green/ENV3/lib/python3.10/site-packages (from earthengine-api>=0.1.347->geemap) (0.1.1)\r\n",
      "Requirement already satisfied: httplib2<1dev,>=0.9.2 in /home/green/ENV3/lib/python3.10/site-packages (from earthengine-api>=0.1.347->geemap) (0.22.0)\r\n",
      "Requirement already satisfied: requests in /home/green/ENV3/lib/python3.10/site-packages (from earthengine-api>=0.1.347->geemap) (2.28.2)\r\n",
      "Requirement already satisfied: branca>=0.6.0 in /home/green/ENV3/lib/python3.10/site-packages (from folium>=0.13.0->geemap) (0.7.0)\r\n",
      "Requirement already satisfied: jinja2>=2.9 in /home/green/ENV3/lib/python3.10/site-packages (from folium>=0.13.0->geemap) (3.1.2)\r\n",
      "Requirement already satisfied: xyzservices in /home/green/ENV3/lib/python3.10/site-packages (from folium>=0.13.0->geemap) (2023.10.0)\r\n",
      "Requirement already satisfied: ipywidgets in /home/green/ENV3/lib/python3.10/site-packages (from ipyfilechooser>=0.6.0->geemap) (8.0.4)\r\n",
      "Collecting traittypes<3,>=0.2.1 (from ipyleaflet>=0.17.0->geemap)\r\n",
      "  Downloading traittypes-0.2.1-py2.py3-none-any.whl (8.6 kB)\r\n",
      "Requirement already satisfied: traitlets>=4.3.0 in /home/green/ENV3/lib/python3.10/site-packages (from bqplot->geemap) (5.6.0)\r\n",
      "Requirement already satisfied: python-dateutil>=2.8.1 in /home/green/ENV3/lib/python3.10/site-packages (from pandas->geemap) (2.8.2)\r\n",
      "Requirement already satisfied: pytz>=2020.1 in /home/green/ENV3/lib/python3.10/site-packages (from pandas->geemap) (2022.6)\r\n",
      "Requirement already satisfied: click in /home/green/ENV3/lib/python3.10/site-packages (from geocoder->geemap) (8.1.3)\r\n",
      "Requirement already satisfied: future in /home/green/ENV3/lib/python3.10/site-packages (from geocoder->geemap) (0.18.3)\r\n",
      "Collecting ratelim (from geocoder->geemap)\r\n",
      "  Downloading ratelim-0.1.6-py2.py3-none-any.whl (4.0 kB)\r\n",
      "Requirement already satisfied: six in /home/green/ENV3/lib/python3.10/site-packages (from geocoder->geemap) (1.16.0)\r\n",
      "Requirement already satisfied: contourpy>=1.0.1 in /home/green/ENV3/lib/python3.10/site-packages (from matplotlib->geemap) (1.0.6)\r\n",
      "Requirement already satisfied: cycler>=0.10 in /home/green/ENV3/lib/python3.10/site-packages (from matplotlib->geemap) (0.11.0)\r\n",
      "Requirement already satisfied: fonttools>=4.22.0 in /home/green/ENV3/lib/python3.10/site-packages (from matplotlib->geemap) (4.38.0)\r\n",
      "Requirement already satisfied: kiwisolver>=1.3.1 in /home/green/ENV3/lib/python3.10/site-packages (from matplotlib->geemap) (1.4.4)\r\n",
      "Requirement already satisfied: packaging>=20.0 in /home/green/ENV3/lib/python3.10/site-packages (from matplotlib->geemap) (21.3)\r\n",
      "Requirement already satisfied: pillow>=8 in /home/green/ENV3/lib/python3.10/site-packages (from matplotlib->geemap) (9.3.0)\r\n",
      "Requirement already satisfied: pyparsing>=2.3.1 in /home/green/ENV3/lib/python3.10/site-packages (from matplotlib->geemap) (3.0.9)\r\n",
      "Requirement already satisfied: tenacity>=6.2.0 in /home/green/ENV3/lib/python3.10/site-packages (from plotly->geemap) (8.2.2)\r\n",
      "Requirement already satisfied: google-api-core!=2.0.*,!=2.1.*,!=2.2.*,!=2.3.0,<3.0.0.dev0,>=1.31.5 in /home/green/ENV3/lib/python3.10/site-packages (from google-api-python-client>=1.12.1->earthengine-api>=0.1.347->geemap) (2.15.0)\r\n",
      "Requirement already satisfied: uritemplate<5,>=3.0.1 in /home/green/ENV3/lib/python3.10/site-packages (from google-api-python-client>=1.12.1->earthengine-api>=0.1.347->geemap) (4.1.1)\r\n",
      "Requirement already satisfied: cachetools<6.0,>=2.0.0 in /home/green/ENV3/lib/python3.10/site-packages (from google-auth>=1.4.1->earthengine-api>=0.1.347->geemap) (5.2.0)\r\n",
      "Requirement already satisfied: pyasn1-modules>=0.2.1 in /home/green/ENV3/lib/python3.10/site-packages (from google-auth>=1.4.1->earthengine-api>=0.1.347->geemap) (0.2.8)\r\n",
      "Requirement already satisfied: rsa<5,>=3.1.4 in /home/green/ENV3/lib/python3.10/site-packages (from google-auth>=1.4.1->earthengine-api>=0.1.347->geemap) (4.7.2)\r\n",
      "Requirement already satisfied: ipykernel>=4.5.1 in /home/green/ENV3/lib/python3.10/site-packages (from ipywidgets->ipyfilechooser>=0.6.0->geemap) (6.19.2)\r\n",
      "Requirement already satisfied: ipython>=6.1.0 in /home/green/ENV3/lib/python3.10/site-packages (from ipywidgets->ipyfilechooser>=0.6.0->geemap) (8.7.0)\r\n",
      "Requirement already satisfied: widgetsnbextension~=4.0 in /home/green/ENV3/lib/python3.10/site-packages (from ipywidgets->ipyfilechooser>=0.6.0->geemap) (4.0.5)\r\n",
      "Requirement already satisfied: jupyterlab-widgets~=3.0 in /home/green/ENV3/lib/python3.10/site-packages (from ipywidgets->ipyfilechooser>=0.6.0->geemap) (3.0.5)\r\n",
      "Requirement already satisfied: MarkupSafe>=2.0 in /home/green/ENV3/lib/python3.10/site-packages (from jinja2>=2.9->folium>=0.13.0->geemap) (2.1.1)\r\n",
      "Requirement already satisfied: google-cloud-core<3.0dev,>=2.3.0 in /home/green/ENV3/lib/python3.10/site-packages (from google-cloud-storage->earthengine-api>=0.1.347->geemap) (2.4.1)\r\n",
      "Requirement already satisfied: google-resumable-media>=2.6.0 in /home/green/ENV3/lib/python3.10/site-packages (from google-cloud-storage->earthengine-api>=0.1.347->geemap) (2.6.0)\r\n",
      "Requirement already satisfied: google-crc32c<2.0dev,>=1.0 in /home/green/ENV3/lib/python3.10/site-packages (from google-cloud-storage->earthengine-api>=0.1.347->geemap) (1.5.0)\r\n",
      "Requirement already satisfied: charset-normalizer<4,>=2 in /home/green/ENV3/lib/python3.10/site-packages (from requests->earthengine-api>=0.1.347->geemap) (2.1.1)\r\n",
      "Requirement already satisfied: idna<4,>=2.5 in /home/green/ENV3/lib/python3.10/site-packages (from requests->earthengine-api>=0.1.347->geemap) (3.4)\r\n",
      "Requirement already satisfied: urllib3<1.27,>=1.21.1 in /home/green/ENV3/lib/python3.10/site-packages (from requests->earthengine-api>=0.1.347->geemap) (1.26.13)\r\n",
      "Requirement already satisfied: certifi>=2017.4.17 in /home/green/ENV3/lib/python3.10/site-packages (from requests->earthengine-api>=0.1.347->geemap) (2022.9.24)\r\n",
      "Requirement already satisfied: decorator in /home/green/ENV3/lib/python3.10/site-packages (from ratelim->geocoder->geemap) (5.1.1)\r\n",
      "Requirement already satisfied: googleapis-common-protos<2.0.dev0,>=1.56.2 in /home/green/ENV3/lib/python3.10/site-packages (from google-api-core!=2.0.*,!=2.1.*,!=2.2.*,!=2.3.0,<3.0.0.dev0,>=1.31.5->google-api-python-client>=1.12.1->earthengine-api>=0.1.347->geemap) (1.59.0)\r\n",
      "Requirement already satisfied: protobuf!=3.20.0,!=3.20.1,!=4.21.0,!=4.21.1,!=4.21.2,!=4.21.3,!=4.21.4,!=4.21.5,<5.0.0.dev0,>=3.19.5 in /home/green/ENV3/lib/python3.10/site-packages (from google-api-core!=2.0.*,!=2.1.*,!=2.2.*,!=2.3.0,<3.0.0.dev0,>=1.31.5->google-api-python-client>=1.12.1->earthengine-api>=0.1.347->geemap) (4.25.1)\r\n",
      "Requirement already satisfied: comm>=0.1.1 in /home/green/ENV3/lib/python3.10/site-packages (from ipykernel>=4.5.1->ipywidgets->ipyfilechooser>=0.6.0->geemap) (0.1.2)\r\n",
      "Requirement already satisfied: debugpy>=1.0 in /home/green/ENV3/lib/python3.10/site-packages (from ipykernel>=4.5.1->ipywidgets->ipyfilechooser>=0.6.0->geemap) (1.6.4)\r\n",
      "Requirement already satisfied: jupyter-client>=6.1.12 in /home/green/ENV3/lib/python3.10/site-packages (from ipykernel>=4.5.1->ipywidgets->ipyfilechooser>=0.6.0->geemap) (7.4.8)\r\n",
      "Requirement already satisfied: matplotlib-inline>=0.1 in /home/green/ENV3/lib/python3.10/site-packages (from ipykernel>=4.5.1->ipywidgets->ipyfilechooser>=0.6.0->geemap) (0.1.6)\r\n",
      "Requirement already satisfied: nest-asyncio in /home/green/ENV3/lib/python3.10/site-packages (from ipykernel>=4.5.1->ipywidgets->ipyfilechooser>=0.6.0->geemap) (1.5.6)\r\n",
      "Requirement already satisfied: psutil in /home/green/ENV3/lib/python3.10/site-packages (from ipykernel>=4.5.1->ipywidgets->ipyfilechooser>=0.6.0->geemap) (5.9.4)\r\n",
      "Requirement already satisfied: pyzmq>=17 in /home/green/ENV3/lib/python3.10/site-packages (from ipykernel>=4.5.1->ipywidgets->ipyfilechooser>=0.6.0->geemap) (24.0.1)\r\n",
      "Requirement already satisfied: tornado>=6.1 in /home/green/ENV3/lib/python3.10/site-packages (from ipykernel>=4.5.1->ipywidgets->ipyfilechooser>=0.6.0->geemap) (6.2)\r\n",
      "Requirement already satisfied: backcall in /home/green/ENV3/lib/python3.10/site-packages (from ipython>=6.1.0->ipywidgets->ipyfilechooser>=0.6.0->geemap) (0.2.0)\r\n",
      "Requirement already satisfied: jedi>=0.16 in /home/green/ENV3/lib/python3.10/site-packages (from ipython>=6.1.0->ipywidgets->ipyfilechooser>=0.6.0->geemap) (0.18.2)\r\n",
      "Requirement already satisfied: pickleshare in /home/green/ENV3/lib/python3.10/site-packages (from ipython>=6.1.0->ipywidgets->ipyfilechooser>=0.6.0->geemap) (0.7.5)\r\n",
      "Requirement already satisfied: prompt-toolkit<3.1.0,>=3.0.11 in /home/green/ENV3/lib/python3.10/site-packages (from ipython>=6.1.0->ipywidgets->ipyfilechooser>=0.6.0->geemap) (3.0.36)\r\n",
      "Requirement already satisfied: pygments>=2.4.0 in /home/green/ENV3/lib/python3.10/site-packages (from ipython>=6.1.0->ipywidgets->ipyfilechooser>=0.6.0->geemap) (2.13.0)\r\n",
      "Requirement already satisfied: stack-data in /home/green/ENV3/lib/python3.10/site-packages (from ipython>=6.1.0->ipywidgets->ipyfilechooser>=0.6.0->geemap) (0.6.2)\r\n",
      "Requirement already satisfied: pexpect>4.3 in /home/green/ENV3/lib/python3.10/site-packages (from ipython>=6.1.0->ipywidgets->ipyfilechooser>=0.6.0->geemap) (4.8.0)\r\n",
      "Requirement already satisfied: pyasn1<0.5.0,>=0.4.6 in /home/green/ENV3/lib/python3.10/site-packages (from pyasn1-modules>=0.2.1->google-auth>=1.4.1->earthengine-api>=0.1.347->geemap) (0.4.8)\r\n",
      "Requirement already satisfied: parso<0.9.0,>=0.8.0 in /home/green/ENV3/lib/python3.10/site-packages (from jedi>=0.16->ipython>=6.1.0->ipywidgets->ipyfilechooser>=0.6.0->geemap) (0.8.3)\r\n",
      "Requirement already satisfied: entrypoints in /home/green/ENV3/lib/python3.10/site-packages (from jupyter-client>=6.1.12->ipykernel>=4.5.1->ipywidgets->ipyfilechooser>=0.6.0->geemap) (0.4)\r\n",
      "Requirement already satisfied: jupyter-core>=4.9.2 in /home/green/ENV3/lib/python3.10/site-packages (from jupyter-client>=6.1.12->ipykernel>=4.5.1->ipywidgets->ipyfilechooser>=0.6.0->geemap) (5.1.0)\r\n",
      "Requirement already satisfied: ptyprocess>=0.5 in /home/green/ENV3/lib/python3.10/site-packages (from pexpect>4.3->ipython>=6.1.0->ipywidgets->ipyfilechooser>=0.6.0->geemap) (0.7.0)\r\n",
      "Requirement already satisfied: wcwidth in /home/green/ENV3/lib/python3.10/site-packages (from prompt-toolkit<3.1.0,>=3.0.11->ipython>=6.1.0->ipywidgets->ipyfilechooser>=0.6.0->geemap) (0.2.5)\r\n",
      "Requirement already satisfied: executing>=1.2.0 in /home/green/ENV3/lib/python3.10/site-packages (from stack-data->ipython>=6.1.0->ipywidgets->ipyfilechooser>=0.6.0->geemap) (1.2.0)\r\n",
      "Requirement already satisfied: asttokens>=2.1.0 in /home/green/ENV3/lib/python3.10/site-packages (from stack-data->ipython>=6.1.0->ipywidgets->ipyfilechooser>=0.6.0->geemap) (2.2.1)\r\n",
      "Requirement already satisfied: pure-eval in /home/green/ENV3/lib/python3.10/site-packages (from stack-data->ipython>=6.1.0->ipywidgets->ipyfilechooser>=0.6.0->geemap) (0.2.2)\r\n",
      "Requirement already satisfied: platformdirs>=2.5 in /home/green/ENV3/lib/python3.10/site-packages (from jupyter-core>=4.9.2->jupyter-client>=6.1.12->ipykernel>=4.5.1->ipywidgets->ipyfilechooser>=0.6.0->geemap) (2.6.0)\r\n",
      "Downloading geemap-0.29.6-py2.py3-none-any.whl (2.2 MB)\r\n",
      "\u001B[2K   \u001B[90m━━━━━━━━━━━━━━━━━━━━━━━━━━━━━━━━━━━━━━━━\u001B[0m \u001B[32m2.2/2.2 MB\u001B[0m \u001B[31m9.4 MB/s\u001B[0m eta \u001B[36m0:00:00\u001B[0m:00:01\u001B[0m00:01\u001B[0m\r\n",
      "\u001B[?25hDownloading ipyleaflet-0.18.0-py3-none-any.whl (3.7 MB)\r\n",
      "\u001B[2K   \u001B[90m━━━━━━━━━━━━━━━━━━━━━━━━━━━━━━━━━━━━━━━━\u001B[0m \u001B[32m3.7/3.7 MB\u001B[0m \u001B[31m9.9 MB/s\u001B[0m eta \u001B[36m0:00:00\u001B[0m:00:01\u001B[0m00:01\u001B[0m\r\n",
      "\u001B[?25hDownloading bqplot-0.12.42-py2.py3-none-any.whl (1.2 MB)\r\n",
      "\u001B[2K   \u001B[90m━━━━━━━━━━━━━━━━━━━━━━━━━━━━━━━━━━━━━━━━\u001B[0m \u001B[32m1.2/1.2 MB\u001B[0m \u001B[31m6.2 MB/s\u001B[0m eta \u001B[36m0:00:00\u001B[0m00:01\u001B[0m00:01\u001B[0m\r\n",
      "\u001B[?25hDownloading ipyevents-2.0.2-py3-none-any.whl (101 kB)\r\n",
      "\u001B[2K   \u001B[90m━━━━━━━━━━━━━━━━━━━━━━━━━━━━━━━━━━━━━━━━\u001B[0m \u001B[32m101.8/101.8 kB\u001B[0m \u001B[31m6.6 MB/s\u001B[0m eta \u001B[36m0:00:00\u001B[0m\r\n",
      "\u001B[?25hDownloading python_box-7.1.1-cp310-cp310-manylinux_2_17_x86_64.manylinux2014_x86_64.whl (3.9 MB)\r\n",
      "\u001B[2K   \u001B[90m━━━━━━━━━━━━━━━━━━━━━━━━━━━━━━━━━━━━━━━━\u001B[0m \u001B[32m3.9/3.9 MB\u001B[0m \u001B[31m8.7 MB/s\u001B[0m eta \u001B[36m0:00:00\u001B[0m00:01\u001B[0m00:01\u001B[0m\r\n",
      "\u001B[?25hDownloading scooby-0.9.2-py3-none-any.whl (18 kB)\r\n",
      "Building wheels for collected packages: pyperclip\r\n",
      "  Building wheel for pyperclip (setup.py) ... \u001B[?25ldone\r\n",
      "\u001B[?25h  Created wheel for pyperclip: filename=pyperclip-1.8.2-py3-none-any.whl size=11125 sha256=71b47988f335db81201ef93d3c797519277f2cd32e2883d67d3b03249168b8ed\r\n",
      "  Stored in directory: /home/green/.cache/pip/wheels/04/24/fe/140a94a7f1036003ede94579e6b4227fe96c840c6f4dcbe307\r\n",
      "Successfully built pyperclip\r\n",
      "Installing collected packages: pyperclip, colour, traittypes, scooby, ratelim, python-box, geocoder, ipytree, ipyleaflet, ipyfilechooser, ipyevents, bqplot, eerepr, geemap\r\n",
      "Successfully installed bqplot-0.12.42 colour-0.1.5 eerepr-0.0.4 geemap-0.29.6 geocoder-1.38.1 ipyevents-2.0.2 ipyfilechooser-0.6.0 ipyleaflet-0.18.0 ipytree-0.2.2 pyperclip-1.8.2 python-box-7.1.1 ratelim-0.1.6 scooby-0.9.2 traittypes-0.2.1\r\n"
     ]
    }
   ],
   "source": [
    "! pip install earthengine-api\n",
    "! pip install geemap"
   ],
   "metadata": {
    "collapsed": false,
    "ExecuteTime": {
     "end_time": "2023-12-12T15:31:32.575432317Z",
     "start_time": "2023-12-12T15:31:14.760036769Z"
    }
   },
   "id": "d15850b4df03cbe"
  },
  {
   "cell_type": "code",
   "execution_count": 3,
   "outputs": [],
   "source": [
    "import ee\n",
    "import geemap\n",
    "from cloudmesh.common.FlatDict import FlatDict\n",
    "from cloudmesh.common.Shell import Shell\n",
    "import sys"
   ],
   "metadata": {
    "collapsed": false,
    "ExecuteTime": {
     "end_time": "2023-12-12T15:31:39.633275739Z",
     "start_time": "2023-12-12T15:31:39.173264680Z"
    }
   },
   "id": "5090fc8dd580eae2"
  },
  {
   "cell_type": "code",
   "execution_count": 24,
   "outputs": [
    {
     "data": {
      "text/plain": "<IPython.core.display.HTML object>",
      "text/html": "\n            <style>\n                .geemap-dark {\n                    --jp-widgets-color: white;\n                    --jp-widgets-label-color: white;\n                    --jp-ui-font-color1: white;\n                    --jp-layout-color2: #454545;\n                    background-color: #383838;\n                }\n                    \n                .geemap-dark .jupyter-button {\n                    --jp-layout-color3: #383838;\n                }\n                \n                .geemap-colab {\n                    background-color: var(--colab-primary-surface-color, white);\n                }\n                    \n                .geemap-colab .jupyter-button {\n                    --jp-layout-color3: var(--colab-primary-surface-color, white);\n                }\n            </style>\n            "
     },
     "metadata": {},
     "output_type": "display_data"
    }
   ],
   "source": [
    "\n",
    "\n",
    "config = FlatDict()\n",
    "config.loadf(filename=\"~/.ee.yaml\")\n",
    "config.filename = \"local_map.html\"\n",
    "\n",
    "# print (config.project)\n",
    "# print (config.token)"
   ],
   "metadata": {
    "collapsed": false,
    "ExecuteTime": {
     "end_time": "2023-12-12T15:46:42.626236697Z",
     "start_time": "2023-12-12T15:46:42.569255556Z"
    }
   },
   "id": "cbbab53bd3014292"
  },
  {
   "cell_type": "code",
   "execution_count": 18,
   "outputs": [
    {
     "data": {
      "text/plain": "<IPython.core.display.HTML object>",
      "text/html": "\n            <style>\n                .geemap-dark {\n                    --jp-widgets-color: white;\n                    --jp-widgets-label-color: white;\n                    --jp-ui-font-color1: white;\n                    --jp-layout-color2: #454545;\n                    background-color: #383838;\n                }\n                    \n                .geemap-dark .jupyter-button {\n                    --jp-layout-color3: #383838;\n                }\n                \n                .geemap-colab {\n                    background-color: var(--colab-primary-surface-color, white);\n                }\n                    \n                .geemap-colab .jupyter-button {\n                    --jp-layout-color3: var(--colab-primary-surface-color, white);\n                }\n            </style>\n            "
     },
     "metadata": {},
     "output_type": "display_data"
    },
    {
     "data": {
      "text/plain": "<IPython.core.display.HTML object>",
      "text/html": "<p>To authorize access needed by Earth Engine, open the following\n        URL in a web browser and follow the instructions:</p>\n        <p><a href=https://code.earthengine.google.com/client-auth?scopes=https%3A//www.googleapis.com/auth/earthengine%20https%3A//www.googleapis.com/auth/devstorage.full_control&request_id=ti3zJXJfYhULUcgq6e2Vk4ArQjY7mVpUMgNi0iQIXHU&tc=RfLNkM4SwUOWqlPaaKtepQpIKgdE6vKt3yYqqfw6zdk&cc=HCzwKIRdRqYk1Op2eM9y-6ccmi_ymv1D1d-8_oryWbE>https://code.earthengine.google.com/client-auth?scopes=https%3A//www.googleapis.com/auth/earthengine%20https%3A//www.googleapis.com/auth/devstorage.full_control&request_id=ti3zJXJfYhULUcgq6e2Vk4ArQjY7mVpUMgNi0iQIXHU&tc=RfLNkM4SwUOWqlPaaKtepQpIKgdE6vKt3yYqqfw6zdk&cc=HCzwKIRdRqYk1Op2eM9y-6ccmi_ymv1D1d-8_oryWbE</a></p>\n        <p>The authorization workflow will generate a code, which you should paste in the box below.</p>\n        "
     },
     "metadata": {},
     "output_type": "display_data"
    },
    {
     "name": "stdout",
     "output_type": "stream",
     "text": [
      "\n",
      "Successfully saved authorization token.\n"
     ]
    }
   ],
   "source": [
    "\n",
    "\n",
    "# Set up Earth Engine API key\n",
    "# Replace 'your-ee-api-key' with your actual Earth Engine API key\n",
    "ee.Authenticate()\n",
    "ee.Initialize(project=config.project)\n",
    "\n",
    "\n",
    "# Initialize Earth Engine with the obtained token\n",
    "ee.Initialize()\n",
    "\n",
    "# Now, you should be authenticated and able to use Earth Engine API\n"
   ],
   "metadata": {
    "collapsed": false,
    "ExecuteTime": {
     "end_time": "2023-12-12T15:43:54.618721693Z",
     "start_time": "2023-12-12T15:43:17.723125578Z"
    }
   },
   "id": "82083fbd90ce534b"
  },
  {
   "cell_type": "code",
   "execution_count": 22,
   "outputs": [
    {
     "data": {
      "text/plain": "<IPython.core.display.HTML object>",
      "text/html": "\n            <style>\n                .geemap-dark {\n                    --jp-widgets-color: white;\n                    --jp-widgets-label-color: white;\n                    --jp-ui-font-color1: white;\n                    --jp-layout-color2: #454545;\n                    background-color: #383838;\n                }\n                    \n                .geemap-dark .jupyter-button {\n                    --jp-layout-color3: #383838;\n                }\n                \n                .geemap-colab {\n                    background-color: var(--colab-primary-surface-color, white);\n                }\n                    \n                .geemap-colab .jupyter-button {\n                    --jp-layout-color3: var(--colab-primary-surface-color, white);\n                }\n            </style>\n            "
     },
     "metadata": {},
     "output_type": "display_data"
    },
    {
     "data": {
      "text/plain": "Map(center=[46.043, 1.45], controls=(WidgetControl(options=['position', 'transparent_bg'], widget=SearchDataGU…",
      "application/vnd.jupyter.widget-view+json": {
       "version_major": 2,
       "version_minor": 0,
       "model_id": "82467105040346b68264736f8db45690"
      }
     },
     "metadata": {},
     "output_type": "display_data"
    }
   ],
   "source": [
    "\n",
    "# Define the date range\n",
    "start_date = '2018-04-01'\n",
    "end_date = '2018-04-04'\n",
    "\n",
    "# Create an ImageCollection\n",
    "dataset = (ee.ImageCollection('COPERNICUS/S3/OLCI')\n",
    "           .filterDate(ee.Date(start_date), ee.Date(end_date)))\n",
    "\n",
    "# Select bands for visualization and apply band-specific scale factors.\n",
    "rgb = (dataset.select(['Oa08_radiance', 'Oa06_radiance', 'Oa04_radiance'])\n",
    "       .median()\n",
    "       # Convert to radiance units.\n",
    "       .multiply(ee.Image([0.00876539, 0.0123538, 0.0115198])))\n",
    "\n",
    "# Define visualization parameters\n",
    "vis_params = {\n",
    "    'min': 0,\n",
    "    'max': 6,\n",
    "    'gamma': 1.5,\n",
    "}\n",
    "\n",
    "# Set the map center\n",
    "center = [46.043, 1.45]\n",
    "zoom = 5\n",
    "\n",
    "# Create a Map object\n",
    "Map = geemap.Map(center=center, zoom=zoom)\n",
    "\n",
    "# Add the layer to the map\n",
    "Map.addLayer(rgb, vis_params, 'RGB')\n",
    "\n",
    "# Display the map\n",
    "Map.addLayerControl()\n",
    "# display(Map)\n",
    "\n",
    "\n",
    "# Save the map as an HTML file\n",
    "Map.save(config.filename)\n",
    "\n",
    "Shell.browser(config.filename)\n"
   ],
   "metadata": {
    "collapsed": false,
    "ExecuteTime": {
     "end_time": "2023-12-12T15:44:45.546080259Z",
     "start_time": "2023-12-12T15:44:45.028476621Z"
    }
   },
   "id": "6361523e0ca88e45"
  },
  {
   "cell_type": "code",
   "execution_count": null,
   "outputs": [],
   "source": [],
   "metadata": {
    "collapsed": false
   },
   "id": "4acb02594cf12121"
  }
 ],
 "metadata": {
  "kernelspec": {
   "display_name": "Python 3",
   "language": "python",
   "name": "python3"
  },
  "language_info": {
   "codemirror_mode": {
    "name": "ipython",
    "version": 2
   },
   "file_extension": ".py",
   "mimetype": "text/x-python",
   "name": "python",
   "nbconvert_exporter": "python",
   "pygments_lexer": "ipython2",
   "version": "2.7.6"
  }
 },
 "nbformat": 4,
 "nbformat_minor": 5
}
